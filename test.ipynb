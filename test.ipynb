{
 "cells": [
  {
   "cell_type": "code",
   "execution_count": 6,
   "metadata": {},
   "outputs": [
    {
     "data": {
      "text/html": [
       "\n",
       "        <iframe\n",
       "            width=\"100%\"\n",
       "            height=\"650\"\n",
       "            src=\"http://127.0.0.1:8050/\"\n",
       "            frameborder=\"0\"\n",
       "            allowfullscreen\n",
       "            \n",
       "        ></iframe>\n",
       "        "
      ],
      "text/plain": [
       "<IPython.lib.display.IFrame at 0x7f5eed814fd0>"
      ]
     },
     "metadata": {},
     "output_type": "display_data"
    }
   ],
   "source": [
    "import dash\n",
    "from dash import dcc, html, Input, Output, dash_table\n",
    "import dash_bootstrap_components as dbc\n",
    "import plotly.graph_objs as go\n",
    "\n",
    "app = dash.Dash(__name__, external_stylesheets=[dbc.themes.BOOTSTRAP])\n",
    "\n",
    "# Sample data for portfolio and watchlist\n",
    "portfolio_data = pd.DataFrame([\n",
    "    {'Stock': 'SPY', 'Change': '+0.1%'},\n",
    "    {'Stock': 'TSLA', 'Change': '-10.2%'},\n",
    "    {'Stock': 'NVDA', 'Change': '+900%'},\n",
    "    {'Stock': 'Stock1', 'Change': '+0.1%'},\n",
    "    {'Stock': 'Stock2', 'Change': '+9.1%'}\n",
    "])\n",
    "\n",
    "watchlist_data = pd.DataFrame([\n",
    "    {'Stock': 'SPY', 'Change': '+0.1%'},\n",
    "    {'Stock': 'TSLA', 'Change': '-10.2%'}\n",
    "])\n",
    "\n",
    "def generate_table(dataframe, max_rows=10):\n",
    "    return dash_table.DataTable(\n",
    "        data=dataframe.to_dict('records'),\n",
    "        columns=[{'id': c, 'name': c} for c in dataframe.columns],\n",
    "        style_as_list_view=True,\n",
    "        style_header={'backgroundColor': 'rgb(30, 30, 30)', 'color': 'white'},\n",
    "        style_cell={'textAlign': 'left', 'backgroundColor': 'rgb(50, 50, 50)', 'color': 'white'},\n",
    "        page_size=max_rows\n",
    "    )\n",
    "\n",
    "app.layout = dbc.Container([\n",
    "    dbc.NavbarSimple(\n",
    "        children=[\n",
    "            dbc.NavItem(dbc.NavLink(\"Home\", href=\"#\")),\n",
    "            dbc.NavItem(dbc.NavLink(\"Date\", href=\"#\")),\n",
    "            dbc.NavItem(dbc.NavLink(\"Search\", href=\"#\")),\n",
    "        ],\n",
    "        brand=\"Welcome to Simply Trade :)\",\n",
    "        brand_href=\"#\",\n",
    "        color=\"primary\",\n",
    "        dark=True,\n",
    "        className=\"mb-5\",\n",
    "    ),\n",
    "    \n",
    "    dbc.Row([\n",
    "        dbc.Col(dcc.Graph(\n",
    "            id='overview-graph',\n",
    "            figure={\n",
    "                'data': [go.Scatter(x=[1, 2, 3], y=[10, 20, 10], mode='lines')],\n",
    "                'layout': go.Layout(title='Your Graph', margin={'l': 40, 'b': 40, 't': 10, 'r': 10})\n",
    "            }\n",
    "        ), md=6),\n",
    "\n",
    "        dbc.Col([\n",
    "            html.H4(\"My Portfolio:\", className=\"text-center\"),\n",
    "            generate_table(portfolio_data),\n",
    "            html.H4(\"Watchlist\", className=\"text-center mt-4\"),\n",
    "            generate_table(watchlist_data)\n",
    "        ], md=6),\n",
    "    ])\n",
    "], fluid=True)\n",
    "\n",
    "if __name__ == '__main__':\n",
    "    app.run_server(debug=True)\n"
   ]
  }
 ],
 "metadata": {
  "kernelspec": {
   "display_name": "ds4003",
   "language": "python",
   "name": "python3"
  },
  "language_info": {
   "codemirror_mode": {
    "name": "ipython",
    "version": 3
   },
   "file_extension": ".py",
   "mimetype": "text/x-python",
   "name": "python",
   "nbconvert_exporter": "python",
   "pygments_lexer": "ipython3",
   "version": "3.8.19"
  }
 },
 "nbformat": 4,
 "nbformat_minor": 2
}
